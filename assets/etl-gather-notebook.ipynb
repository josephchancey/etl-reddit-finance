{
 "cells": [
  {
   "cell_type": "markdown",
   "source": [
    "## Extract, Transform, Load \r\n",
    "This note book will be responsible for connecting to reddit api, extracting data, and storing it automatically. It will also use the python library, yfinance, to gather Yahoo Finance stock data. \r\n",
    "\r\n",
    "The goal is to extract data from the yfinance library, extract post content from reddit, automatically transform/clean the data and append it to a MongoDB database (via pymongo). \r\n",
    "\r\n",
    "Ultimately, this process has the potential to be automated."
   ],
   "metadata": {}
  },
  {
   "cell_type": "code",
   "execution_count": 2,
   "source": [
    "# Import dependenciess\r\n",
    "import yfinance as yf\r\n",
    "import pandas as pd\r\n",
    "import numpy as np\r\n",
    "import scipy\r\n",
    "import matplotlib.pyplot as plt\r\n",
    "import pymongo"
   ],
   "outputs": [],
   "metadata": {}
  },
  {
   "cell_type": "code",
   "execution_count": 1,
   "source": [
    "# Import API auth requirements\r\n",
    "from config import KEY, CLIENT_ID, PW\r\n",
    "import requests"
   ],
   "outputs": [],
   "metadata": {}
  },
  {
   "cell_type": "code",
   "execution_count": 3,
   "source": [
    "auth = requests.auth.HTTPBasicAuth(CLIENT_ID, KEY)"
   ],
   "outputs": [],
   "metadata": {}
  },
  {
   "cell_type": "code",
   "execution_count": 5,
   "source": [
    "reddit_login = {\r\n",
    "    'grant_type': 'password',\r\n",
    "    'username': 'joechancey11',\r\n",
    "    'password': PW\r\n",
    "}"
   ],
   "outputs": [],
   "metadata": {}
  },
  {
   "cell_type": "code",
   "execution_count": 6,
   "source": [
    "headers = {'User-Agent': 'etlAPI/0.0.1'}"
   ],
   "outputs": [],
   "metadata": {}
  },
  {
   "cell_type": "code",
   "execution_count": null,
   "source": [
    "reddit_request = requests.post('https://www.reddit.com/api/v1/access_token',%%!auth)"
   ],
   "outputs": [],
   "metadata": {}
  }
 ],
 "metadata": {
  "kernelspec": {
   "name": "python3",
   "display_name": "Python 3.8.5 64-bit ('base': conda)"
  },
  "language_info": {
   "codemirror_mode": {
    "name": "ipython",
    "version": 3
   },
   "file_extension": ".py",
   "mimetype": "text/x-python",
   "name": "python",
   "nbconvert_exporter": "python",
   "pygments_lexer": "ipython3",
   "version": "3.8.5"
  },
  "interpreter": {
   "hash": "b3ba2566441a7c06988d0923437866b63cedc61552a5af99d1f4fb67d367b25f"
  }
 },
 "nbformat": 4,
 "nbformat_minor": 4
}