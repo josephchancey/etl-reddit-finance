{
 "cells": [
  {
   "cell_type": "markdown",
   "source": [
    "## Extract, Transform, Load \r\n",
    "This note book will be responsible for connecting to reddit api, extracting data, and storing it automatically. It will also use the python library, yfinance, to gather Yahoo Finance stock data. \r\n",
    "\r\n",
    "The goal is to extract data from the yfinance library, extract post content from reddit, automatically transform/clean the data and append it to a MongoDB database (via pymongo). \r\n",
    "\r\n",
    "Ultimately, this process has the potential to be automated."
   ],
   "metadata": {}
  },
  {
   "cell_type": "code",
   "execution_count": 45,
   "source": [
    "# Import dependencies\r\n",
    "import yfinance as yf\r\n",
    "import pandas as pd\r\n",
    "import matplotlib.pyplot as plt\r\n",
    "import pymongo\r\n",
    "import requests\r\n",
    "import json\r\n",
    "import praw\r\n",
    "from config import KEY, CLIENT_ID, PW"
   ],
   "outputs": [],
   "metadata": {}
  },
  {
   "cell_type": "code",
   "execution_count": 46,
   "source": [
    "# Create variables for API credentials\r\n",
    "client_id = CLIENT_ID\r\n",
    "client_k =KEY\r\n",
    "usr_agent = 'etlAPP'\r\n",
    "username = 'joechancey11'\r\n",
    "pw = PW"
   ],
   "outputs": [],
   "metadata": {}
  },
  {
   "cell_type": "code",
   "execution_count": 47,
   "source": [
    "def reddit_request():\r\n",
    "    reddit = praw.Reddit(client_id=client_id, client_secret=client_k, user_agent=usr_agent, username=username, password=pw)\r\n",
    "    return reddit"
   ],
   "outputs": [],
   "metadata": {}
  }
 ],
 "metadata": {
  "kernelspec": {
   "name": "python3",
   "display_name": "Python 3.8.5 64-bit ('base': conda)"
  },
  "language_info": {
   "codemirror_mode": {
    "name": "ipython",
    "version": 3
   },
   "file_extension": ".py",
   "mimetype": "text/x-python",
   "name": "python",
   "nbconvert_exporter": "python",
   "pygments_lexer": "ipython3",
   "version": "3.8.5"
  },
  "interpreter": {
   "hash": "b3ba2566441a7c06988d0923437866b63cedc61552a5af99d1f4fb67d367b25f"
  }
 },
 "nbformat": 4,
 "nbformat_minor": 4
}